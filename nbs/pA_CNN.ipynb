{
 "cells": [
  {
   "cell_type": "markdown",
   "metadata": {},
   "source": [
    "# A CNN model for predicting cleavage and polyadenylation sites\n",
    "\n",
    "This CNN model is based on [fastai v2](https://github.com/fastai/fastai2), a deep learning library based on PyTorch.  \n",
    "\n",
    "For the first ~10 hours of working on this project, the model either had bugs or was as stupid as a coin (with a constant 63% accuracy). After I reduced the width of the input sequences, the accuracy suddenly improved to 81%. After trying different architectures, the accuracy has reached 94.0% and the AUC is 0.98."
   ]
  },
  {
   "cell_type": "code",
   "execution_count": null,
   "metadata": {},
   "outputs": [],
   "source": [
    "from fastai2.data.all import *\n",
    "from fastai2.basics import *\n",
    "from fastai2.callback.all import *\n",
    "from fastai2.vision.all import *\n",
    "\n",
    "from sklearn.metrics import roc_curve, auc\n",
    "from sklearn.metrics import confusion_matrix, precision_recall_curve\n",
    "\n",
    "import pandas as pd\n",
    "import matplotlib.pyplot as plt\n"
   ]
  },
  {
   "cell_type": "markdown",
   "metadata": {},
   "source": [
    "## Define functions for extracting genomic DNA sequence"
   ]
  },
  {
   "cell_type": "code",
   "execution_count": null,
   "metadata": {},
   "outputs": [],
   "source": [
    "def load_genome(genome_dir):\n",
    "    '''Read fasta files containing genomic sequence from genome_dir into a dict.'''\n",
    "    fasta_files = Path(genome_dir).glob('chr*.fa')\n",
    "    genome = {}\n",
    "    for fasta_file in fasta_files:\n",
    "        with open(fasta_file, 'r') as f:\n",
    "            f.readline()\n",
    "            line = f.read()\n",
    "            genome[str(fasta_file.name).replace('.fa', '')] = line.replace('\\n', '')\n",
    "    return genome\n",
    "    \n",
    "       \n",
    "def reverse_complement(seq, mol_type = 'DNA'):\n",
    "    '''Get reverse complement of seq.'''\n",
    "    # Genomic sequences contain both lower and upper case letters   \n",
    "    seq = seq.upper()\n",
    "    if mol_type == 'DNA':\n",
    "        complement = {'A': 'T', 'C': 'G', 'G': 'C', 'T': 'A', 'N': 'N'}\n",
    "    elif mol_type == 'RNA':\n",
    "        complement = {'A': 'U', 'C': 'G', 'G': 'C', 'U': 'A', 'N': 'N'}\n",
    "    return \"\".join(complement.get(base) for base in reversed(seq))\n",
    "    \n",
    "\n",
    "def get_seq(chromosome, strand, position, offset, genome):\n",
    "    '''Get stranded genomic sequence (-80nt ~ 40nt) from the cleavage site (position).'''\n",
    "    if strand == '+': \n",
    "        start = position + offset - 80\n",
    "        end   = position + offset + 40\n",
    "        seq   = genome[chromosome][(start-1) : end].upper() \n",
    "    elif strand == '-': \n",
    "        start = position + offset - 40\n",
    "        end   = position + offset + 80\n",
    "        seq   = genome[chromosome][(start-1) : end].upper() \n",
    "        seq   = reverse_complement(seq, mol_type = 'DNA')\n",
    "    return seq"
   ]
  },
  {
   "cell_type": "markdown",
   "metadata": {},
   "source": [
    "## Get sequences surrounding polyadenylation (pA ) sites"
   ]
  },
  {
   "cell_type": "code",
   "execution_count": null,
   "metadata": {},
   "outputs": [],
   "source": [
    "# Directory containing fasta files for different genomes\n",
    "GENOME_FASTA_DIR = '/home/dinghai/projects/fud/ucsc/genomes' \n",
    "\n",
    "GENOME = 'mm9' \n",
    "\n",
    "genome_dir = Path(GENOME_FASTA_DIR)/GENOME"
   ]
  },
  {
   "cell_type": "markdown",
   "metadata": {},
   "source": [
    "Reand the file containing pA site information, which is the output from [**Part 1 of my 3'READS+ pipeline**](https://github.com/DinghaiZ/3-prime-READS-plus/blob/master/projects/project_1/experiment_1/notebooks/Part-1.ipynb). Only the first three columns are needed for this task."
   ]
  },
  {
   "cell_type": "code",
   "execution_count": null,
   "metadata": {},
   "outputs": [
    {
     "data": {
      "text/html": [
       "<div>\n",
       "<style scoped>\n",
       "    .dataframe tbody tr th:only-of-type {\n",
       "        vertical-align: middle;\n",
       "    }\n",
       "\n",
       "    .dataframe tbody tr th {\n",
       "        vertical-align: top;\n",
       "    }\n",
       "\n",
       "    .dataframe thead th {\n",
       "        text-align: right;\n",
       "    }\n",
       "</style>\n",
       "<table border=\"1\" class=\"dataframe\">\n",
       "  <thead>\n",
       "    <tr style=\"text-align: right;\">\n",
       "      <th></th>\n",
       "      <th>chromosome</th>\n",
       "      <th>strand</th>\n",
       "      <th>position</th>\n",
       "      <th>Ctrl_Cyto_1</th>\n",
       "      <th>Ctrl_Cyto_2</th>\n",
       "      <th>Ctrl_ER_1</th>\n",
       "      <th>Ctrl_ER_2</th>\n",
       "      <th>Puro_Cyto_1</th>\n",
       "      <th>Puro_ER_1</th>\n",
       "      <th>Puro_Cyto_2</th>\n",
       "      <th>Puro_ER_2</th>\n",
       "    </tr>\n",
       "  </thead>\n",
       "  <tbody>\n",
       "    <tr>\n",
       "      <th>0</th>\n",
       "      <td>chr12</td>\n",
       "      <td>-</td>\n",
       "      <td>3121202</td>\n",
       "      <td>0</td>\n",
       "      <td>0</td>\n",
       "      <td>0</td>\n",
       "      <td>1</td>\n",
       "      <td>0</td>\n",
       "      <td>0</td>\n",
       "      <td>0</td>\n",
       "      <td>0</td>\n",
       "    </tr>\n",
       "    <tr>\n",
       "      <th>1</th>\n",
       "      <td>chr12</td>\n",
       "      <td>-</td>\n",
       "      <td>3160002</td>\n",
       "      <td>0</td>\n",
       "      <td>1</td>\n",
       "      <td>0</td>\n",
       "      <td>0</td>\n",
       "      <td>0</td>\n",
       "      <td>0</td>\n",
       "      <td>0</td>\n",
       "      <td>0</td>\n",
       "    </tr>\n",
       "    <tr>\n",
       "      <th>2</th>\n",
       "      <td>chr12</td>\n",
       "      <td>-</td>\n",
       "      <td>3232818</td>\n",
       "      <td>0</td>\n",
       "      <td>0</td>\n",
       "      <td>0</td>\n",
       "      <td>1</td>\n",
       "      <td>1</td>\n",
       "      <td>1</td>\n",
       "      <td>0</td>\n",
       "      <td>0</td>\n",
       "    </tr>\n",
       "    <tr>\n",
       "      <th>3</th>\n",
       "      <td>chr12</td>\n",
       "      <td>-</td>\n",
       "      <td>3232888</td>\n",
       "      <td>1</td>\n",
       "      <td>0</td>\n",
       "      <td>0</td>\n",
       "      <td>0</td>\n",
       "      <td>0</td>\n",
       "      <td>0</td>\n",
       "      <td>0</td>\n",
       "      <td>0</td>\n",
       "    </tr>\n",
       "    <tr>\n",
       "      <th>4</th>\n",
       "      <td>chr12</td>\n",
       "      <td>-</td>\n",
       "      <td>3233135</td>\n",
       "      <td>0</td>\n",
       "      <td>3</td>\n",
       "      <td>0</td>\n",
       "      <td>2</td>\n",
       "      <td>0</td>\n",
       "      <td>0</td>\n",
       "      <td>0</td>\n",
       "      <td>0</td>\n",
       "    </tr>\n",
       "  </tbody>\n",
       "</table>\n",
       "</div>"
      ],
      "text/plain": [
       "  chromosome strand  position  Ctrl_Cyto_1  Ctrl_Cyto_2  Ctrl_ER_1  Ctrl_ER_2  \\\n",
       "0      chr12      -   3121202            0            0          0          1   \n",
       "1      chr12      -   3160002            0            1          0          0   \n",
       "2      chr12      -   3232818            0            0          0          1   \n",
       "3      chr12      -   3232888            1            0          0          0   \n",
       "4      chr12      -   3233135            0            3          0          2   \n",
       "\n",
       "   Puro_Cyto_1  Puro_ER_1  Puro_Cyto_2  Puro_ER_2  \n",
       "0            0          0            0          0  \n",
       "1            0          0            0          0  \n",
       "2            1          1            0          0  \n",
       "3            0          0            0          0  \n",
       "4            0          0            0          0  "
      ]
     },
     "execution_count": null,
     "metadata": {},
     "output_type": "execute_result"
    }
   ],
   "source": [
    "pA_cluster_file = '/home/dinghai/projects/ER/191105_C2C12_Puromycin/results/clusters.using.all.reads.csv'\n",
    "\n",
    "pA_clusters = pd.read_csv(pA_cluster_file)\n",
    "\n",
    "pA_clusters.head()"
   ]
  },
  {
   "cell_type": "code",
   "execution_count": null,
   "metadata": {},
   "outputs": [
    {
     "data": {
      "text/plain": [
       "(326517, 11)"
      ]
     },
     "execution_count": null,
     "metadata": {},
     "output_type": "execute_result"
    }
   ],
   "source": [
    "pA_clusters.shape"
   ]
  },
  {
   "cell_type": "markdown",
   "metadata": {},
   "source": [
    "Filter out pA sites in chromosome M, because most of them are not real."
   ]
  },
  {
   "cell_type": "code",
   "execution_count": null,
   "metadata": {},
   "outputs": [
    {
     "data": {
      "text/plain": [
       "(325800, 11)"
      ]
     },
     "execution_count": null,
     "metadata": {},
     "output_type": "execute_result"
    }
   ],
   "source": [
    "pA_clusters = pA_clusters[pA_clusters.chromosome != 'chrM']\n",
    "\n",
    "pA_clusters.shape"
   ]
  },
  {
   "cell_type": "markdown",
   "metadata": {},
   "source": [
    "Filter out pA sites supported with low read #, because they tend to be noise too."
   ]
  },
  {
   "cell_type": "code",
   "execution_count": null,
   "metadata": {},
   "outputs": [
    {
     "data": {
      "text/plain": [
       "(27813, 11)"
      ]
     },
     "execution_count": null,
     "metadata": {},
     "output_type": "execute_result"
    }
   ],
   "source": [
    "pA_clusters = pA_clusters[pA_clusters.filter(regex='_\\d$', axis=1).sum(axis=1) >= 8*5]\n",
    "\n",
    "pA_clusters.shape"
   ]
  },
  {
   "cell_type": "code",
   "execution_count": null,
   "metadata": {},
   "outputs": [
    {
     "data": {
      "text/html": [
       "<div>\n",
       "<style scoped>\n",
       "    .dataframe tbody tr th:only-of-type {\n",
       "        vertical-align: middle;\n",
       "    }\n",
       "\n",
       "    .dataframe tbody tr th {\n",
       "        vertical-align: top;\n",
       "    }\n",
       "\n",
       "    .dataframe thead th {\n",
       "        text-align: right;\n",
       "    }\n",
       "</style>\n",
       "<table border=\"1\" class=\"dataframe\">\n",
       "  <thead>\n",
       "    <tr style=\"text-align: right;\">\n",
       "      <th></th>\n",
       "      <th>chromosome</th>\n",
       "      <th>strand</th>\n",
       "      <th>position</th>\n",
       "      <th>Ctrl_Cyto_1</th>\n",
       "      <th>Ctrl_Cyto_2</th>\n",
       "      <th>Ctrl_ER_1</th>\n",
       "      <th>Ctrl_ER_2</th>\n",
       "      <th>Puro_Cyto_1</th>\n",
       "      <th>Puro_ER_1</th>\n",
       "      <th>Puro_Cyto_2</th>\n",
       "      <th>Puro_ER_2</th>\n",
       "    </tr>\n",
       "  </thead>\n",
       "  <tbody>\n",
       "    <tr>\n",
       "      <th>8</th>\n",
       "      <td>chr12</td>\n",
       "      <td>-</td>\n",
       "      <td>3247430</td>\n",
       "      <td>57</td>\n",
       "      <td>65</td>\n",
       "      <td>65</td>\n",
       "      <td>64</td>\n",
       "      <td>59</td>\n",
       "      <td>52</td>\n",
       "      <td>52</td>\n",
       "      <td>71</td>\n",
       "    </tr>\n",
       "    <tr>\n",
       "      <th>10</th>\n",
       "      <td>chr12</td>\n",
       "      <td>-</td>\n",
       "      <td>3247714</td>\n",
       "      <td>7</td>\n",
       "      <td>15</td>\n",
       "      <td>19</td>\n",
       "      <td>53</td>\n",
       "      <td>15</td>\n",
       "      <td>20</td>\n",
       "      <td>13</td>\n",
       "      <td>26</td>\n",
       "    </tr>\n",
       "    <tr>\n",
       "      <th>27</th>\n",
       "      <td>chr12</td>\n",
       "      <td>-</td>\n",
       "      <td>3249475</td>\n",
       "      <td>5</td>\n",
       "      <td>6</td>\n",
       "      <td>9</td>\n",
       "      <td>15</td>\n",
       "      <td>11</td>\n",
       "      <td>7</td>\n",
       "      <td>5</td>\n",
       "      <td>12</td>\n",
       "    </tr>\n",
       "    <tr>\n",
       "      <th>30</th>\n",
       "      <td>chr12</td>\n",
       "      <td>-</td>\n",
       "      <td>3249704</td>\n",
       "      <td>140</td>\n",
       "      <td>129</td>\n",
       "      <td>145</td>\n",
       "      <td>219</td>\n",
       "      <td>210</td>\n",
       "      <td>146</td>\n",
       "      <td>179</td>\n",
       "      <td>161</td>\n",
       "    </tr>\n",
       "    <tr>\n",
       "      <th>63</th>\n",
       "      <td>chr12</td>\n",
       "      <td>-</td>\n",
       "      <td>3631620</td>\n",
       "      <td>0</td>\n",
       "      <td>0</td>\n",
       "      <td>5</td>\n",
       "      <td>6</td>\n",
       "      <td>2</td>\n",
       "      <td>10</td>\n",
       "      <td>3</td>\n",
       "      <td>15</td>\n",
       "    </tr>\n",
       "  </tbody>\n",
       "</table>\n",
       "</div>"
      ],
      "text/plain": [
       "   chromosome strand  position  Ctrl_Cyto_1  Ctrl_Cyto_2  Ctrl_ER_1  \\\n",
       "8       chr12      -   3247430           57           65         65   \n",
       "10      chr12      -   3247714            7           15         19   \n",
       "27      chr12      -   3249475            5            6          9   \n",
       "30      chr12      -   3249704          140          129        145   \n",
       "63      chr12      -   3631620            0            0          5   \n",
       "\n",
       "    Ctrl_ER_2  Puro_Cyto_1  Puro_ER_1  Puro_Cyto_2  Puro_ER_2  \n",
       "8          64           59         52           52         71  \n",
       "10         53           15         20           13         26  \n",
       "27         15           11          7            5         12  \n",
       "30        219          210        146          179        161  \n",
       "63          6            2         10            3         15  "
      ]
     },
     "execution_count": null,
     "metadata": {},
     "output_type": "execute_result"
    }
   ],
   "source": [
    "pA_clusters.head()"
   ]
  },
  {
   "cell_type": "markdown",
   "metadata": {},
   "source": [
    "Extract genomic sequences surrounding the pA sites."
   ]
  },
  {
   "cell_type": "code",
   "execution_count": null,
   "metadata": {},
   "outputs": [],
   "source": [
    "genome = load_genome(genome_dir)"
   ]
  },
  {
   "cell_type": "code",
   "execution_count": null,
   "metadata": {},
   "outputs": [],
   "source": [
    "positive_seqs = pA_clusters.apply(lambda row: \n",
    "                                  get_seq(row.chromosome, row.strand, row.position, \n",
    "                                          offset=0, genome=genome), \n",
    "                                  axis=1) "
   ]
  },
  {
   "cell_type": "code",
   "execution_count": null,
   "metadata": {},
   "outputs": [
    {
     "data": {
      "text/plain": [
       "8     ATACTCTACTTAACAATTTAAATAAACTGAAATATTTCTAGATGGTCTACTTCTGTTCATATAAAAACAAACCTGATTTCCAACTGTGTGGTTTGGTTTTCATTTATTTTTGGAGTTGGAG\n",
       "10    TAATTATAATCGACATTGTACAGAGAAAGGATAAGGCTACCTTTGTTAAATCTGCACTTTCTGAATATCAAAAAAAAAAACAAAAAAAACAAAAAAACCCACCAAAAGGGAAATGGAAGTA\n",
       "27    GATTTACTTGCTCACTCAGCCCTGCACTTCAGTTGTATTATAGTCCAGTTCTTATCAACATTAAACTAGAGCAATCATTTCAACTATTCTGCAAATTGTATAAGAATAAAAGTTAGAATTA\n",
       "30    GCTCTCCTGTCCATCTGCTGCCATCCACCATCCGGTTCTCTTCTTGCTGCAAAATAAAACACTCTGTCCATTTTTAACTCTAAACAGATATTTTTGTTTCTCATCTTAACTATTCAATCCA\n",
       "63    CGTAAGGAGATCTGAATCCCTCTTCTGGAGTGTCTGAAGACAGCTGCCGTGTACTTACATATAATAAATAAATACATCTTTTTTTTTTTTAAATCTACTTTTAAACTAGAAAACCAAAAAT\n",
       "dtype: object"
      ]
     },
     "execution_count": null,
     "metadata": {},
     "output_type": "execute_result"
    }
   ],
   "source": [
    "positive_seqs.head()"
   ]
  },
  {
   "cell_type": "markdown",
   "metadata": {},
   "source": [
    "## Get background sequences as negative examples\n",
    "I'll use sequences 200nt upstream or downstream of the pA sites as negative examples. Since these sequences are close to the pA sites, they tend be similar to the positive examples in terms of base composition. If we use CDS sequences or intergenic sequences, it might be too easy for the model to tell the difference.\n",
    "\n",
    "But first of all, we need to avoid sequences that overlaps with other pA sites, since the distance between two pA sites could be around 200nt. "
   ]
  },
  {
   "cell_type": "code",
   "execution_count": null,
   "metadata": {},
   "outputs": [],
   "source": [
    "pA_clusters = pA_clusters.sort_values(by=['chromosome', 'position'])"
   ]
  },
  {
   "cell_type": "code",
   "execution_count": null,
   "metadata": {},
   "outputs": [],
   "source": [
    "previous_pAs = (pA_clusters\n",
    "                .position[:-1]\n",
    "                .reset_index()\n",
    "                .rename(columns={'index': 'previous_index', 'position':'previous_position'})\n",
    "               )\n",
    "\n",
    "next_pAs      = (pA_clusters\n",
    "                .position[1:]\n",
    "                .reset_index()\n",
    "                .rename(columns={'index': 'next_index', 'position':'next_position'})\n",
    "               )\n",
    "\n",
    "aligned_pAs = pd.concat([previous_pAs, next_pAs], axis=1)\n",
    "\n",
    "aligned_pAs['distance'] = aligned_pAs['next_position'] - aligned_pAs['previous_position'] "
   ]
  },
  {
   "cell_type": "markdown",
   "metadata": {},
   "source": [
    "In the cell below, 280 = 200 + 80 and 120 = 200 - 80."
   ]
  },
  {
   "cell_type": "code",
   "execution_count": null,
   "metadata": {},
   "outputs": [],
   "source": [
    "close_pAs = aligned_pAs[((aligned_pAs['distance'].abs()<280) & (aligned_pAs['distance'].abs()>120)) \n",
    "                        & (aligned_pAs['next_index']-aligned_pAs['previous_index']<10)]\n",
    "\n",
    "close_pA_index = set(close_pAs['previous_index']).union(close_pAs['next_index'])"
   ]
  },
  {
   "cell_type": "code",
   "execution_count": null,
   "metadata": {},
   "outputs": [
    {
     "data": {
      "text/html": [
       "<div>\n",
       "<style scoped>\n",
       "    .dataframe tbody tr th:only-of-type {\n",
       "        vertical-align: middle;\n",
       "    }\n",
       "\n",
       "    .dataframe tbody tr th {\n",
       "        vertical-align: top;\n",
       "    }\n",
       "\n",
       "    .dataframe thead th {\n",
       "        text-align: right;\n",
       "    }\n",
       "</style>\n",
       "<table border=\"1\" class=\"dataframe\">\n",
       "  <thead>\n",
       "    <tr style=\"text-align: right;\">\n",
       "      <th></th>\n",
       "      <th>chromosome</th>\n",
       "      <th>strand</th>\n",
       "      <th>position</th>\n",
       "      <th>Ctrl_Cyto_1</th>\n",
       "      <th>Ctrl_Cyto_2</th>\n",
       "      <th>Ctrl_ER_1</th>\n",
       "      <th>Ctrl_ER_2</th>\n",
       "      <th>Puro_Cyto_1</th>\n",
       "      <th>Puro_ER_1</th>\n",
       "      <th>Puro_Cyto_2</th>\n",
       "      <th>Puro_ER_2</th>\n",
       "    </tr>\n",
       "  </thead>\n",
       "  <tbody>\n",
       "    <tr>\n",
       "      <th>15593</th>\n",
       "      <td>chr1</td>\n",
       "      <td>-</td>\n",
       "      <td>4764020</td>\n",
       "      <td>6</td>\n",
       "      <td>10</td>\n",
       "      <td>7</td>\n",
       "      <td>5</td>\n",
       "      <td>6</td>\n",
       "      <td>1</td>\n",
       "      <td>10</td>\n",
       "      <td>6</td>\n",
       "    </tr>\n",
       "    <tr>\n",
       "      <th>15596</th>\n",
       "      <td>chr1</td>\n",
       "      <td>-</td>\n",
       "      <td>4766465</td>\n",
       "      <td>2182</td>\n",
       "      <td>2278</td>\n",
       "      <td>1063</td>\n",
       "      <td>2147</td>\n",
       "      <td>2651</td>\n",
       "      <td>1265</td>\n",
       "      <td>2019</td>\n",
       "      <td>1697</td>\n",
       "    </tr>\n",
       "    <tr>\n",
       "      <th>44092</th>\n",
       "      <td>chr1</td>\n",
       "      <td>+</td>\n",
       "      <td>4835279</td>\n",
       "      <td>12</td>\n",
       "      <td>9</td>\n",
       "      <td>6</td>\n",
       "      <td>6</td>\n",
       "      <td>15</td>\n",
       "      <td>4</td>\n",
       "      <td>8</td>\n",
       "      <td>1</td>\n",
       "    </tr>\n",
       "    <tr>\n",
       "      <th>44096</th>\n",
       "      <td>chr1</td>\n",
       "      <td>+</td>\n",
       "      <td>4836815</td>\n",
       "      <td>242</td>\n",
       "      <td>174</td>\n",
       "      <td>120</td>\n",
       "      <td>176</td>\n",
       "      <td>262</td>\n",
       "      <td>95</td>\n",
       "      <td>142</td>\n",
       "      <td>122</td>\n",
       "    </tr>\n",
       "    <tr>\n",
       "      <th>15608</th>\n",
       "      <td>chr1</td>\n",
       "      <td>-</td>\n",
       "      <td>4847354</td>\n",
       "      <td>0</td>\n",
       "      <td>3</td>\n",
       "      <td>2</td>\n",
       "      <td>15</td>\n",
       "      <td>2</td>\n",
       "      <td>9</td>\n",
       "      <td>3</td>\n",
       "      <td>6</td>\n",
       "    </tr>\n",
       "    <tr>\n",
       "      <th>...</th>\n",
       "      <td>...</td>\n",
       "      <td>...</td>\n",
       "      <td>...</td>\n",
       "      <td>...</td>\n",
       "      <td>...</td>\n",
       "      <td>...</td>\n",
       "      <td>...</td>\n",
       "      <td>...</td>\n",
       "      <td>...</td>\n",
       "      <td>...</td>\n",
       "      <td>...</td>\n",
       "    </tr>\n",
       "    <tr>\n",
       "      <th>141967</th>\n",
       "      <td>chrX</td>\n",
       "      <td>-</td>\n",
       "      <td>166414227</td>\n",
       "      <td>2</td>\n",
       "      <td>0</td>\n",
       "      <td>9</td>\n",
       "      <td>7</td>\n",
       "      <td>1</td>\n",
       "      <td>6</td>\n",
       "      <td>5</td>\n",
       "      <td>15</td>\n",
       "    </tr>\n",
       "    <tr>\n",
       "      <th>31894</th>\n",
       "      <td>chrX</td>\n",
       "      <td>+</td>\n",
       "      <td>166428727</td>\n",
       "      <td>36</td>\n",
       "      <td>10</td>\n",
       "      <td>51</td>\n",
       "      <td>17</td>\n",
       "      <td>18</td>\n",
       "      <td>44</td>\n",
       "      <td>16</td>\n",
       "      <td>33</td>\n",
       "    </tr>\n",
       "    <tr>\n",
       "      <th>326027</th>\n",
       "      <td>chrX_random</td>\n",
       "      <td>-</td>\n",
       "      <td>10851</td>\n",
       "      <td>14</td>\n",
       "      <td>14</td>\n",
       "      <td>12</td>\n",
       "      <td>11</td>\n",
       "      <td>10</td>\n",
       "      <td>10</td>\n",
       "      <td>10</td>\n",
       "      <td>9</td>\n",
       "    </tr>\n",
       "    <tr>\n",
       "      <th>326321</th>\n",
       "      <td>chrX_random</td>\n",
       "      <td>+</td>\n",
       "      <td>334185</td>\n",
       "      <td>108</td>\n",
       "      <td>53</td>\n",
       "      <td>164</td>\n",
       "      <td>181</td>\n",
       "      <td>169</td>\n",
       "      <td>93</td>\n",
       "      <td>129</td>\n",
       "      <td>93</td>\n",
       "    </tr>\n",
       "    <tr>\n",
       "      <th>326002</th>\n",
       "      <td>chrY</td>\n",
       "      <td>+</td>\n",
       "      <td>1448251</td>\n",
       "      <td>0</td>\n",
       "      <td>0</td>\n",
       "      <td>0</td>\n",
       "      <td>0</td>\n",
       "      <td>0</td>\n",
       "      <td>4</td>\n",
       "      <td>0</td>\n",
       "      <td>41</td>\n",
       "    </tr>\n",
       "  </tbody>\n",
       "</table>\n",
       "<p>23310 rows × 11 columns</p>\n",
       "</div>"
      ],
      "text/plain": [
       "         chromosome strand   position  Ctrl_Cyto_1  Ctrl_Cyto_2  Ctrl_ER_1  \\\n",
       "15593          chr1      -    4764020            6           10          7   \n",
       "15596          chr1      -    4766465         2182         2278       1063   \n",
       "44092          chr1      +    4835279           12            9          6   \n",
       "44096          chr1      +    4836815          242          174        120   \n",
       "15608          chr1      -    4847354            0            3          2   \n",
       "...             ...    ...        ...          ...          ...        ...   \n",
       "141967         chrX      -  166414227            2            0          9   \n",
       "31894          chrX      +  166428727           36           10         51   \n",
       "326027  chrX_random      -      10851           14           14         12   \n",
       "326321  chrX_random      +     334185          108           53        164   \n",
       "326002         chrY      +    1448251            0            0          0   \n",
       "\n",
       "        Ctrl_ER_2  Puro_Cyto_1  Puro_ER_1  Puro_Cyto_2  Puro_ER_2  \n",
       "15593           5            6          1           10          6  \n",
       "15596        2147         2651       1265         2019       1697  \n",
       "44092           6           15          4            8          1  \n",
       "44096         176          262         95          142        122  \n",
       "15608          15            2          9            3          6  \n",
       "...           ...          ...        ...          ...        ...  \n",
       "141967          7            1          6            5         15  \n",
       "31894          17           18         44           16         33  \n",
       "326027         11           10         10           10          9  \n",
       "326321        181          169         93          129         93  \n",
       "326002          0            0          4            0         41  \n",
       "\n",
       "[23310 rows x 11 columns]"
      ]
     },
     "execution_count": null,
     "metadata": {},
     "output_type": "execute_result"
    }
   ],
   "source": [
    "pA_clusters = pA_clusters.loc[[i for i in pA_clusters.index.values if not i in close_pA_index]]\n",
    "pA_clusters"
   ]
  },
  {
   "cell_type": "code",
   "execution_count": null,
   "metadata": {},
   "outputs": [],
   "source": [
    "downstream_seqs = pA_clusters.apply(lambda row: \n",
    "                                    get_seq(row.chromosome, row.strand, row.position, \n",
    "                                            offset=200, genome=genome), \n",
    "                                    axis=1) \n",
    "\n",
    "upstream_seqs   = pA_clusters.apply(lambda row: \n",
    "                                    get_seq(row.chromosome, row.strand, row.position, \n",
    "                                            offset=-200, genome=genome), \n",
    "                                    axis=1) \n",
    "\n",
    "negative_seqs   = pd.concat([upstream_seqs, downstream_seqs])"
   ]
  },
  {
   "cell_type": "code",
   "execution_count": null,
   "metadata": {},
   "outputs": [
    {
     "data": {
      "text/html": [
       "<div>\n",
       "<style scoped>\n",
       "    .dataframe tbody tr th:only-of-type {\n",
       "        vertical-align: middle;\n",
       "    }\n",
       "\n",
       "    .dataframe tbody tr th {\n",
       "        vertical-align: top;\n",
       "    }\n",
       "\n",
       "    .dataframe thead th {\n",
       "        text-align: right;\n",
       "    }\n",
       "</style>\n",
       "<table border=\"1\" class=\"dataframe\">\n",
       "  <thead>\n",
       "    <tr style=\"text-align: right;\">\n",
       "      <th></th>\n",
       "      <th>seq</th>\n",
       "      <th>label</th>\n",
       "    </tr>\n",
       "  </thead>\n",
       "  <tbody>\n",
       "    <tr>\n",
       "      <th>8</th>\n",
       "      <td>ATACTCTACTTAACAATTTAAATAAACTGAAATATTTCTAGATGGTCTACTTCTGTTCATATAAAAACAAACCTGATTTCCAACTGTGTGGTTTGGTTTTCATTTATTTTTGGAGTTGGAG</td>\n",
       "      <td>pA</td>\n",
       "    </tr>\n",
       "    <tr>\n",
       "      <th>10</th>\n",
       "      <td>TAATTATAATCGACATTGTACAGAGAAAGGATAAGGCTACCTTTGTTAAATCTGCACTTTCTGAATATCAAAAAAAAAAACAAAAAAAACAAAAAAACCCACCAAAAGGGAAATGGAAGTA</td>\n",
       "      <td>pA</td>\n",
       "    </tr>\n",
       "    <tr>\n",
       "      <th>27</th>\n",
       "      <td>GATTTACTTGCTCACTCAGCCCTGCACTTCAGTTGTATTATAGTCCAGTTCTTATCAACATTAAACTAGAGCAATCATTTCAACTATTCTGCAAATTGTATAAGAATAAAAGTTAGAATTA</td>\n",
       "      <td>pA</td>\n",
       "    </tr>\n",
       "    <tr>\n",
       "      <th>30</th>\n",
       "      <td>GCTCTCCTGTCCATCTGCTGCCATCCACCATCCGGTTCTCTTCTTGCTGCAAAATAAAACACTCTGTCCATTTTTAACTCTAAACAGATATTTTTGTTTCTCATCTTAACTATTCAATCCA</td>\n",
       "      <td>pA</td>\n",
       "    </tr>\n",
       "    <tr>\n",
       "      <th>63</th>\n",
       "      <td>CGTAAGGAGATCTGAATCCCTCTTCTGGAGTGTCTGAAGACAGCTGCCGTGTACTTACATATAATAAATAAATACATCTTTTTTTTTTTTAAATCTACTTTTAAACTAGAAAACCAAAAAT</td>\n",
       "      <td>pA</td>\n",
       "    </tr>\n",
       "  </tbody>\n",
       "</table>\n",
       "</div>"
      ],
      "text/plain": [
       "                                                                                                                          seq  \\\n",
       "8   ATACTCTACTTAACAATTTAAATAAACTGAAATATTTCTAGATGGTCTACTTCTGTTCATATAAAAACAAACCTGATTTCCAACTGTGTGGTTTGGTTTTCATTTATTTTTGGAGTTGGAG   \n",
       "10  TAATTATAATCGACATTGTACAGAGAAAGGATAAGGCTACCTTTGTTAAATCTGCACTTTCTGAATATCAAAAAAAAAAACAAAAAAAACAAAAAAACCCACCAAAAGGGAAATGGAAGTA   \n",
       "27  GATTTACTTGCTCACTCAGCCCTGCACTTCAGTTGTATTATAGTCCAGTTCTTATCAACATTAAACTAGAGCAATCATTTCAACTATTCTGCAAATTGTATAAGAATAAAAGTTAGAATTA   \n",
       "30  GCTCTCCTGTCCATCTGCTGCCATCCACCATCCGGTTCTCTTCTTGCTGCAAAATAAAACACTCTGTCCATTTTTAACTCTAAACAGATATTTTTGTTTCTCATCTTAACTATTCAATCCA   \n",
       "63  CGTAAGGAGATCTGAATCCCTCTTCTGGAGTGTCTGAAGACAGCTGCCGTGTACTTACATATAATAAATAAATACATCTTTTTTTTTTTTAAATCTACTTTTAAACTAGAAAACCAAAAAT   \n",
       "\n",
       "   label  \n",
       "8     pA  \n",
       "10    pA  \n",
       "27    pA  \n",
       "30    pA  \n",
       "63    pA  "
      ]
     },
     "execution_count": null,
     "metadata": {},
     "output_type": "execute_result"
    }
   ],
   "source": [
    "positive_seqs = positive_seqs.to_frame(name='seq')\n",
    "positive_seqs['label'] = 'pA'\n",
    "positive_seqs.head()"
   ]
  },
  {
   "cell_type": "code",
   "execution_count": null,
   "metadata": {},
   "outputs": [
    {
     "data": {
      "text/html": [
       "<div>\n",
       "<style scoped>\n",
       "    .dataframe tbody tr th:only-of-type {\n",
       "        vertical-align: middle;\n",
       "    }\n",
       "\n",
       "    .dataframe tbody tr th {\n",
       "        vertical-align: top;\n",
       "    }\n",
       "\n",
       "    .dataframe thead th {\n",
       "        text-align: right;\n",
       "    }\n",
       "</style>\n",
       "<table border=\"1\" class=\"dataframe\">\n",
       "  <thead>\n",
       "    <tr style=\"text-align: right;\">\n",
       "      <th></th>\n",
       "      <th>seq</th>\n",
       "      <th>label</th>\n",
       "    </tr>\n",
       "  </thead>\n",
       "  <tbody>\n",
       "    <tr>\n",
       "      <th>15593</th>\n",
       "      <td>AGGATAAGAACTCAAACAGGGCAGCAGCTCATGTAGAGACCATGGAGCATGCTGCTTACTGACTTGCTCCTCATGGCTTGCTCAGCCTGCTTCCTTATAAAACCCGAGATCACCAGCCCAC</td>\n",
       "      <td>Non-pA</td>\n",
       "    </tr>\n",
       "    <tr>\n",
       "      <th>15596</th>\n",
       "      <td>TTTAGAAAGGGGATTAAAAAGAAAAAAACCTACTTAAAATTACCTTTCTTTTGGGGGGTGGGGAGACTGTGTTTTGATACATGGTTTCTCTGTGTAGCCCTGGCTGTCCTGGAACTTGTTC</td>\n",
       "      <td>Non-pA</td>\n",
       "    </tr>\n",
       "    <tr>\n",
       "      <th>44092</th>\n",
       "      <td>TTTCTGACTTCTGTAGCTGTTTATTAAATCATTTTTTCCAAACAGGAAATGATGGATGTCAAGCACTTCATTGATAAGCTCCTACCTCCAATTGATTGACATCACTAAGAGGCCTTGAGTA</td>\n",
       "      <td>Non-pA</td>\n",
       "    </tr>\n",
       "    <tr>\n",
       "      <th>44096</th>\n",
       "      <td>AACCAACCAAGAAGCACCTTTATAAACAGGTGCTAATTGATATGAAGATCATTTTGGTATGTCCTAGATAGAATGAAGCCAAATGTCTGGATTTAAAACAATTTCAAACAATCATTTACTA</td>\n",
       "      <td>Non-pA</td>\n",
       "    </tr>\n",
       "    <tr>\n",
       "      <th>15608</th>\n",
       "      <td>ACTAATGTGCATTTTCACACTTTAAACTTAAGATCAAATAAAGTATAGCTCCCCAGGGTAACAGTGAATTCCACTTTGACTAATCAGTTTCTATTGAAAGTAAATGGTTCAGTACCATTTT</td>\n",
       "      <td>Non-pA</td>\n",
       "    </tr>\n",
       "  </tbody>\n",
       "</table>\n",
       "</div>"
      ],
      "text/plain": [
       "                                                                                                                             seq  \\\n",
       "15593  AGGATAAGAACTCAAACAGGGCAGCAGCTCATGTAGAGACCATGGAGCATGCTGCTTACTGACTTGCTCCTCATGGCTTGCTCAGCCTGCTTCCTTATAAAACCCGAGATCACCAGCCCAC   \n",
       "15596  TTTAGAAAGGGGATTAAAAAGAAAAAAACCTACTTAAAATTACCTTTCTTTTGGGGGGTGGGGAGACTGTGTTTTGATACATGGTTTCTCTGTGTAGCCCTGGCTGTCCTGGAACTTGTTC   \n",
       "44092  TTTCTGACTTCTGTAGCTGTTTATTAAATCATTTTTTCCAAACAGGAAATGATGGATGTCAAGCACTTCATTGATAAGCTCCTACCTCCAATTGATTGACATCACTAAGAGGCCTTGAGTA   \n",
       "44096  AACCAACCAAGAAGCACCTTTATAAACAGGTGCTAATTGATATGAAGATCATTTTGGTATGTCCTAGATAGAATGAAGCCAAATGTCTGGATTTAAAACAATTTCAAACAATCATTTACTA   \n",
       "15608  ACTAATGTGCATTTTCACACTTTAAACTTAAGATCAAATAAAGTATAGCTCCCCAGGGTAACAGTGAATTCCACTTTGACTAATCAGTTTCTATTGAAAGTAAATGGTTCAGTACCATTTT   \n",
       "\n",
       "        label  \n",
       "15593  Non-pA  \n",
       "15596  Non-pA  \n",
       "44092  Non-pA  \n",
       "44096  Non-pA  \n",
       "15608  Non-pA  "
      ]
     },
     "execution_count": null,
     "metadata": {},
     "output_type": "execute_result"
    }
   ],
   "source": [
    "negative_seqs = negative_seqs.to_frame(name='seq')\n",
    "negative_seqs['label'] = 'Non-pA'\n",
    "negative_seqs.head()"
   ]
  },
  {
   "cell_type": "code",
   "execution_count": null,
   "metadata": {},
   "outputs": [
    {
     "data": {
      "text/plain": [
       "(74433, 2)"
      ]
     },
     "execution_count": null,
     "metadata": {},
     "output_type": "execute_result"
    }
   ],
   "source": [
    "seqs = pd.concat([positive_seqs, negative_seqs], axis=0)\n",
    "seqs.shape"
   ]
  },
  {
   "cell_type": "code",
   "execution_count": null,
   "metadata": {},
   "outputs": [
    {
     "data": {
      "text/plain": [
       "(74432, 2)"
      ]
     },
     "execution_count": null,
     "metadata": {},
     "output_type": "execute_result"
    }
   ],
   "source": [
    "seqs = seqs[~seqs['seq'].str.contains(r'N')]\n",
    "seqs.shape"
   ]
  },
  {
   "cell_type": "markdown",
   "metadata": {},
   "source": [
    "## Define \"Transformations\" for turning sequences into arrays "
   ]
  },
  {
   "cell_type": "code",
   "execution_count": null,
   "metadata": {},
   "outputs": [],
   "source": [
    "@Transform\n",
    "def extract_from_df(df, col_name): return str(df[col_name])"
   ]
  },
  {
   "cell_type": "markdown",
   "metadata": {},
   "source": [
    "The Transform class usally have 'encodes' and 'decodes' methods for doing the forward and reverse transformation."
   ]
  },
  {
   "cell_type": "code",
   "execution_count": null,
   "metadata": {},
   "outputs": [],
   "source": [
    "class Seq2Array(Transform):\n",
    "    \"Convert sequence of 'mol_type' into a numpy array\"\n",
    "    order=10\n",
    "    def __init__(self, mol_type = 'DNA'):\n",
    "        if mol_type == 'DNA':\n",
    "            self.b2v = {'A':[1., 0, 0, 0],\n",
    "                        'T':[0, 1., 0, 0],\n",
    "                        'C':[0, 0, 1., 0],\n",
    "                        'G':[0, 0, 0, 1.]\n",
    "                        }\n",
    "            self.vocab = ['A', 'T', 'C', 'G']\n",
    "        elif mol_type == 'RNA':\n",
    "            self.b2v = {'A':[1., 0, 0, 0],\n",
    "                        'U':[0, 1., 0, 0],\n",
    "                        'C':[0, 0, 1., 0],\n",
    "                        'G':[0, 0, 0, 1.]\n",
    "                        }\n",
    "            self.vocab = ['A', 'U', 'C', 'G']\n",
    "     \n",
    "    def encodes(self, seq:str): return array([self.b2v[b] for b in seq]).T[None]\n",
    "    def decodes(self, arr):  \n",
    "        base_arr = array(self.vocab*arr.shape[2]).reshape(-1, 4)\n",
    "        return ''.join(base_arr[arr[0].T==1])"
   ]
  },
  {
   "cell_type": "markdown",
   "metadata": {},
   "source": [
    "Do some testing:"
   ]
  },
  {
   "cell_type": "code",
   "execution_count": null,
   "metadata": {},
   "outputs": [],
   "source": [
    "s2a = Seq2Array(mol_type='RNA')\n",
    "a = s2a('AAUCGGCUU')\n",
    "test_eq(a.shape, (1, 4, 9))"
   ]
  },
  {
   "cell_type": "code",
   "execution_count": null,
   "metadata": {},
   "outputs": [],
   "source": [
    "a[0].T.shape\n",
    "test_eq(s2a.decodes(a), 'AAUCGGCUU')"
   ]
  },
  {
   "cell_type": "markdown",
   "metadata": {},
   "source": [
    "## Create a DataSource using Transformations and a Splitter."
   ]
  },
  {
   "cell_type": "code",
   "execution_count": null,
   "metadata": {},
   "outputs": [],
   "source": [
    "tfms = [[partial(extract_from_df, col_name='seq')],\n",
    "        [partial(extract_from_df, col_name='label'), Categorize(), OneHotEncode()]]\n",
    "\n",
    "split_idx = RandomSplitter()(seqs)\n",
    "split_idx\n",
    "\n",
    "dsrc = DataSource(seqs, tfms, splits=split_idx)"
   ]
  },
  {
   "cell_type": "code",
   "execution_count": null,
   "metadata": {},
   "outputs": [
    {
     "data": {
      "text/plain": [
       "('GTCAGCTCCGCGCCGCCGTCGCCTTACGGCGCTCGGCGTCGCGCGAACCCCGGCGTCCGCGGTGCAACAGTGACAAAAGTGCCGCTCCGGGGCCCCAGTCGCTGACAGGAGTGGGGCGTCG',\n",
       " tensor([1., 0.]))"
      ]
     },
     "execution_count": null,
     "metadata": {},
     "output_type": "execute_result"
    }
   ],
   "source": [
    "dsrc.train[0]"
   ]
  },
  {
   "cell_type": "code",
   "execution_count": null,
   "metadata": {},
   "outputs": [
    {
     "name": "stdout",
     "output_type": "stream",
     "text": [
      "(#1) ['Non-pA']\n"
     ]
    }
   ],
   "source": [
    "show_at(dsrc.train, 0);"
   ]
  },
  {
   "cell_type": "code",
   "execution_count": null,
   "metadata": {},
   "outputs": [
    {
     "data": {
      "text/plain": [
       "('ATACTCTACTTAACAATTTAAATAAACTGAAATATTTCTAGATGGTCTACTTCTGTTCATATAAAAACAAACCTGATTTCCAACTGTGTGGTTTGGTTTTCATTTATTTTTGGAGTTGGAG',\n",
       " \"(#1) ['pA']\")"
      ]
     },
     "execution_count": null,
     "metadata": {},
     "output_type": "execute_result"
    }
   ],
   "source": [
    "t = dsrc[0]\n",
    "x,y = dsrc.decode(t)\n",
    "x,y"
   ]
  },
  {
   "cell_type": "markdown",
   "metadata": {},
   "source": [
    "## Create a DataBunch and move the data to GPU"
   ]
  },
  {
   "cell_type": "code",
   "execution_count": null,
   "metadata": {},
   "outputs": [
    {
     "data": {
      "text/plain": [
       "True"
      ]
     },
     "execution_count": null,
     "metadata": {},
     "output_type": "execute_result"
    }
   ],
   "source": [
    "torch.cuda.is_available()"
   ]
  },
  {
   "cell_type": "code",
   "execution_count": null,
   "metadata": {},
   "outputs": [],
   "source": [
    "dbch = dsrc.databunch(bs=64, \n",
    "            after_item  = [Seq2Array(mol_type='DNA'), ToTensor()], \n",
    "            after_batch = [Cuda(), IntToFloatTensor()])"
   ]
  },
  {
   "cell_type": "code",
   "execution_count": null,
   "metadata": {},
   "outputs": [],
   "source": [
    "# dl = TfmdDL(dsrc.train, bs=8, \n",
    "#             after_item  = [Seq2Array(mol_type='DNA'), ToTensor()], \n",
    "#             after_batch = [Cuda(), IntToFloatTensor()])\n",
    "\n",
    "# t = dl.one_batch()\n",
    "\n",
    "# t[0].shape, t[1].shape"
   ]
  },
  {
   "cell_type": "markdown",
   "metadata": {},
   "source": [
    "## Define a CNN Model"
   ]
  },
  {
   "cell_type": "code",
   "execution_count": null,
   "metadata": {},
   "outputs": [],
   "source": [
    "drop_p = 0.1\n",
    "m = nn.Sequential(\n",
    "                  nn.Conv2d(in_channels=1, out_channels=16, kernel_size=(4,6), stride=1),\n",
    "                  nn.BatchNorm2d(16),\n",
    "                  nn.ReLU(),\n",
    "                  nn.Conv2d(in_channels=16, out_channels=32, kernel_size=(1,6), stride=2),\n",
    "                  nn.BatchNorm2d(32),\n",
    "                  nn.ReLU(),\n",
    "                  nn.Conv2d(in_channels=32, out_channels=32, kernel_size=(1,6), stride=2),\n",
    "                  nn.BatchNorm2d(32),\n",
    "                  nn.ReLU(),\n",
    "                  AdaptiveConcatPool2d(size=(1,6)),\n",
    "                  Flatten(),\n",
    "#                   nn.Dropout(drop_p), # Dropout did not help much for this model \n",
    "                  nn.Linear(in_features=384, out_features=2),\n",
    "                 ).double().cuda()"
   ]
  },
  {
   "cell_type": "markdown",
   "metadata": {},
   "source": [
    "I have to overwrite the `accuracy` function from fastai:"
   ]
  },
  {
   "cell_type": "code",
   "execution_count": null,
   "metadata": {},
   "outputs": [],
   "source": [
    "def accuracy(inp, targ, axis=-1):\n",
    "    \"Compute accuracy with `targ` when `pred` is bs * n_classes\"\n",
    "    pred,targ = flatten_check(inp.argmax(dim=axis), targ.argmax(dim=axis))\n",
    "    return (pred == targ).float().mean()"
   ]
  },
  {
   "cell_type": "markdown",
   "metadata": {},
   "source": [
    "Create a `Learner` consisted of data, model, metrics, loss function, and optimizer:"
   ]
  },
  {
   "cell_type": "code",
   "execution_count": null,
   "metadata": {},
   "outputs": [],
   "source": [
    "learn = Learner(dbch, m, lr=1e-5, metrics=accuracy,\n",
    "                loss_func=BCEWithLogitsLossFlat(),\n",
    "                opt_func=partial(Adam, wd=0.01, eps=1e-3)\n",
    "               )"
   ]
  },
  {
   "cell_type": "code",
   "execution_count": null,
   "metadata": {},
   "outputs": [
    {
     "name": "stdout",
     "output_type": "stream",
     "text": [
      "Sequential (Input shape: 64 x 1 x 4 x 121)\n",
      "================================================================\n",
      "Layer (type)         Output Shape         Param #    Trainable \n",
      "================================================================\n",
      "Conv2d               64 x 16 x 1 x 116    400        True      \n",
      "________________________________________________________________\n",
      "BatchNorm2d          64 x 16 x 1 x 116    32         True      \n",
      "________________________________________________________________\n",
      "ReLU                 64 x 16 x 1 x 116    0          False     \n",
      "________________________________________________________________\n",
      "Conv2d               64 x 32 x 1 x 56     3,104      True      \n",
      "________________________________________________________________\n",
      "BatchNorm2d          64 x 32 x 1 x 56     64         True      \n",
      "________________________________________________________________\n",
      "ReLU                 64 x 32 x 1 x 56     0          False     \n",
      "________________________________________________________________\n",
      "Conv2d               64 x 32 x 1 x 26     6,176      True      \n",
      "________________________________________________________________\n",
      "BatchNorm2d          64 x 32 x 1 x 26     64         True      \n",
      "________________________________________________________________\n",
      "ReLU                 64 x 32 x 1 x 26     0          False     \n",
      "________________________________________________________________\n",
      "AdaptiveAvgPool2d    64 x 32 x 1 x 6      0          False     \n",
      "________________________________________________________________\n",
      "AdaptiveMaxPool2d    64 x 32 x 1 x 6      0          False     \n",
      "________________________________________________________________\n",
      "Flatten              64 x 384             0          False     \n",
      "________________________________________________________________\n",
      "Linear               64 x 2               770        True      \n",
      "________________________________________________________________\n",
      "\n",
      "Total params: 10,610\n",
      "Total trainable params: 10,610\n",
      "Total non-trainable params: 0\n",
      "\n",
      "Optimizer used: functools.partial(<function Adam at 0x7f8e9d012b90>, wd=0.01, eps=0.001)\n",
      "Loss function: FlattenedLoss of BCEWithLogitsLoss()\n",
      "\n",
      "Callbacks:\n",
      "  - TrainEvalCallback\n",
      "  - Recorder\n",
      "  - ProgressCallback\n"
     ]
    }
   ],
   "source": [
    "print(learn.summary())"
   ]
  },
  {
   "cell_type": "code",
   "execution_count": null,
   "metadata": {},
   "outputs": [
    {
     "data": {
      "text/html": [
       "<table border=\"1\" class=\"dataframe\">\n",
       "  <thead>\n",
       "    <tr style=\"text-align: left;\">\n",
       "      <th>epoch</th>\n",
       "      <th>train_loss</th>\n",
       "      <th>valid_loss</th>\n",
       "      <th>accuracy</th>\n",
       "      <th>time</th>\n",
       "    </tr>\n",
       "  </thead>\n",
       "  <tbody>\n",
       "    <tr>\n",
       "      <td>0</td>\n",
       "      <td>0.645414</td>\n",
       "      <td>0.646659</td>\n",
       "      <td>0.627099</td>\n",
       "      <td>00:23</td>\n",
       "    </tr>\n",
       "  </tbody>\n",
       "</table>"
      ],
      "text/plain": [
       "<IPython.core.display.HTML object>"
      ]
     },
     "metadata": {},
     "output_type": "display_data"
    }
   ],
   "source": [
    "learn.fit_one_cycle(1)"
   ]
  },
  {
   "cell_type": "code",
   "execution_count": null,
   "metadata": {},
   "outputs": [
    {
     "data": {
      "image/png": "[encoded data removed]",
      "text/plain": [
       "<Figure size 432x288 with 1 Axes>"
      ]
     },
     "metadata": {
      "needs_background": "light"
     },
     "output_type": "display_data"
    }
   ],
   "source": [
    "learn.recorder.plot_lr_find()"
   ]
  },
  {
   "cell_type": "markdown",
   "metadata": {},
   "source": [
    "The learning rate finder was not very helpful in this case, so I manually tried different lr_max for the next cell."
   ]
  },
  {
   "cell_type": "code",
   "execution_count": null,
   "metadata": {},
   "outputs": [
    {
     "data": {
      "text/html": [
       "<table border=\"1\" class=\"dataframe\">\n",
       "  <thead>\n",
       "    <tr style=\"text-align: left;\">\n",
       "      <th>epoch</th>\n",
       "      <th>train_loss</th>\n",
       "      <th>valid_loss</th>\n",
       "      <th>accuracy</th>\n",
       "      <th>time</th>\n",
       "    </tr>\n",
       "  </thead>\n",
       "  <tbody>\n",
       "    <tr>\n",
       "      <td>0</td>\n",
       "      <td>0.613287</td>\n",
       "      <td>0.608261</td>\n",
       "      <td>0.651619</td>\n",
       "      <td>00:22</td>\n",
       "    </tr>\n",
       "    <tr>\n",
       "      <td>1</td>\n",
       "      <td>0.495039</td>\n",
       "      <td>0.484193</td>\n",
       "      <td>0.785369</td>\n",
       "      <td>00:22</td>\n",
       "    </tr>\n",
       "    <tr>\n",
       "      <td>2</td>\n",
       "      <td>0.376482</td>\n",
       "      <td>0.359776</td>\n",
       "      <td>0.859197</td>\n",
       "      <td>00:22</td>\n",
       "    </tr>\n",
       "    <tr>\n",
       "      <td>3</td>\n",
       "      <td>0.289535</td>\n",
       "      <td>0.280675</td>\n",
       "      <td>0.895607</td>\n",
       "      <td>00:22</td>\n",
       "    </tr>\n",
       "    <tr>\n",
       "      <td>4</td>\n",
       "      <td>0.242270</td>\n",
       "      <td>0.229592</td>\n",
       "      <td>0.916028</td>\n",
       "      <td>00:23</td>\n",
       "    </tr>\n",
       "    <tr>\n",
       "      <td>5</td>\n",
       "      <td>0.207097</td>\n",
       "      <td>0.206433</td>\n",
       "      <td>0.923754</td>\n",
       "      <td>00:22</td>\n",
       "    </tr>\n",
       "    <tr>\n",
       "      <td>6</td>\n",
       "      <td>0.197150</td>\n",
       "      <td>0.191507</td>\n",
       "      <td>0.929800</td>\n",
       "      <td>00:22</td>\n",
       "    </tr>\n",
       "    <tr>\n",
       "      <td>7</td>\n",
       "      <td>0.177434</td>\n",
       "      <td>0.183736</td>\n",
       "      <td>0.933024</td>\n",
       "      <td>00:22</td>\n",
       "    </tr>\n",
       "    <tr>\n",
       "      <td>8</td>\n",
       "      <td>0.169939</td>\n",
       "      <td>0.178259</td>\n",
       "      <td>0.934435</td>\n",
       "      <td>00:22</td>\n",
       "    </tr>\n",
       "    <tr>\n",
       "      <td>9</td>\n",
       "      <td>0.169208</td>\n",
       "      <td>0.174237</td>\n",
       "      <td>0.936585</td>\n",
       "      <td>00:23</td>\n",
       "    </tr>\n",
       "    <tr>\n",
       "      <td>10</td>\n",
       "      <td>0.160483</td>\n",
       "      <td>0.171277</td>\n",
       "      <td>0.937122</td>\n",
       "      <td>00:21</td>\n",
       "    </tr>\n",
       "    <tr>\n",
       "      <td>11</td>\n",
       "      <td>0.160358</td>\n",
       "      <td>0.169190</td>\n",
       "      <td>0.938667</td>\n",
       "      <td>00:22</td>\n",
       "    </tr>\n",
       "    <tr>\n",
       "      <td>12</td>\n",
       "      <td>0.167430</td>\n",
       "      <td>0.167658</td>\n",
       "      <td>0.938802</td>\n",
       "      <td>00:22</td>\n",
       "    </tr>\n",
       "    <tr>\n",
       "      <td>13</td>\n",
       "      <td>0.156314</td>\n",
       "      <td>0.166799</td>\n",
       "      <td>0.938936</td>\n",
       "      <td>00:22</td>\n",
       "    </tr>\n",
       "    <tr>\n",
       "      <td>14</td>\n",
       "      <td>0.153959</td>\n",
       "      <td>0.166086</td>\n",
       "      <td>0.939406</td>\n",
       "      <td>00:22</td>\n",
       "    </tr>\n",
       "    <tr>\n",
       "      <td>15</td>\n",
       "      <td>0.143485</td>\n",
       "      <td>0.165441</td>\n",
       "      <td>0.939608</td>\n",
       "      <td>00:22</td>\n",
       "    </tr>\n",
       "    <tr>\n",
       "      <td>16</td>\n",
       "      <td>0.154902</td>\n",
       "      <td>0.165058</td>\n",
       "      <td>0.939742</td>\n",
       "      <td>00:21</td>\n",
       "    </tr>\n",
       "    <tr>\n",
       "      <td>17</td>\n",
       "      <td>0.141459</td>\n",
       "      <td>0.165209</td>\n",
       "      <td>0.940212</td>\n",
       "      <td>00:22</td>\n",
       "    </tr>\n",
       "    <tr>\n",
       "      <td>18</td>\n",
       "      <td>0.151998</td>\n",
       "      <td>0.165096</td>\n",
       "      <td>0.940279</td>\n",
       "      <td>00:22</td>\n",
       "    </tr>\n",
       "    <tr>\n",
       "      <td>19</td>\n",
       "      <td>0.148116</td>\n",
       "      <td>0.165061</td>\n",
       "      <td>0.940212</td>\n",
       "      <td>00:22</td>\n",
       "    </tr>\n",
       "  </tbody>\n",
       "</table>"
      ],
      "text/plain": [
       "<IPython.core.display.HTML object>"
      ]
     },
     "metadata": {},
     "output_type": "display_data"
    }
   ],
   "source": [
    "learn.fit_one_cycle(20, lr_max=1e-4)"
   ]
  },
  {
   "cell_type": "code",
   "execution_count": null,
   "metadata": {},
   "outputs": [],
   "source": [
    "learn.save(\"pA_site_CNN_model\")"
   ]
  },
  {
   "cell_type": "code",
   "execution_count": null,
   "metadata": {},
   "outputs": [
    {
     "data": {
      "image/png": "[encoded data removed]",
      "text/plain": [
       "<Figure size 432x288 with 1 Axes>"
      ]
     },
     "metadata": {
      "needs_background": "light"
     },
     "output_type": "display_data"
    }
   ],
   "source": [
    "learn.recorder.plot_loss()"
   ]
  },
  {
   "cell_type": "markdown",
   "metadata": {},
   "source": [
    "## Confusion Matrix\n",
    "You can see that the classes are not too unbalanced. A dumb model that always predict \"Non-pA\" will only get ~63% accuracy."
   ]
  },
  {
   "cell_type": "code",
   "execution_count": null,
   "metadata": {},
   "outputs": [
    {
     "data": {
      "text/html": [],
      "text/plain": [
       "<IPython.core.display.HTML object>"
      ]
     },
     "metadata": {},
     "output_type": "display_data"
    },
    {
     "data": {
      "text/html": [
       "<div>\n",
       "<style scoped>\n",
       "    .dataframe tbody tr th:only-of-type {\n",
       "        vertical-align: middle;\n",
       "    }\n",
       "\n",
       "    .dataframe tbody tr th {\n",
       "        vertical-align: top;\n",
       "    }\n",
       "\n",
       "    .dataframe thead th {\n",
       "        text-align: right;\n",
       "    }\n",
       "</style>\n",
       "<table border=\"1\" class=\"dataframe\">\n",
       "  <thead>\n",
       "    <tr style=\"text-align: right;\">\n",
       "      <th></th>\n",
       "      <th>Predicted Non-pA</th>\n",
       "      <th>Predicted pA</th>\n",
       "    </tr>\n",
       "  </thead>\n",
       "  <tbody>\n",
       "    <tr>\n",
       "      <th>True Non-pA</th>\n",
       "      <td>8868</td>\n",
       "      <td>427</td>\n",
       "    </tr>\n",
       "    <tr>\n",
       "      <th>True pA</th>\n",
       "      <td>466</td>\n",
       "      <td>5125</td>\n",
       "    </tr>\n",
       "  </tbody>\n",
       "</table>\n",
       "</div>"
      ],
      "text/plain": [
       "             Predicted Non-pA  Predicted pA\n",
       "True Non-pA              8868           427\n",
       "True pA                   466          5125"
      ]
     },
     "execution_count": null,
     "metadata": {},
     "output_type": "execute_result"
    }
   ],
   "source": [
    "interp = ClassificationInterpretation.from_learner(learn)\n",
    "\n",
    "cm = confusion_matrix(y_true=interp.targs.argmax(axis=1), \n",
    "                      y_pred=interp.decoded.double().argmax(axis=1))\n",
    "\n",
    "pd.DataFrame(cm, \n",
    "             index=['True Non-pA', 'True pA'], \n",
    "             columns=['Predicted Non-pA', 'Predicted pA'])"
   ]
  },
  {
   "cell_type": "markdown",
   "metadata": {},
   "source": [
    "## Precision Recall"
   ]
  },
  {
   "cell_type": "code",
   "execution_count": null,
   "metadata": {},
   "outputs": [],
   "source": [
    "precision, recall, thresholds = precision_recall_curve(\n",
    "                                y_true=interp.targs.argmax(axis=1), \n",
    "                                probas_pred=interp.preds[:,1])"
   ]
  },
  {
   "cell_type": "code",
   "execution_count": null,
   "metadata": {},
   "outputs": [
    {
     "data": {
      "image/png": "[encoded data removed]",
      "text/plain": [
       "<Figure size 432x288 with 1 Axes>"
      ]
     },
     "metadata": {
      "needs_background": "light"
     },
     "output_type": "display_data"
    }
   ],
   "source": [
    "plt.figure()\n",
    "plt.step(recall, precision)\n",
    "plt.xlabel('Recall')\n",
    "plt.ylabel('Precision')\n",
    "plt.title('Precision-Recall for the Test set');"
   ]
  },
  {
   "cell_type": "markdown",
   "metadata": {},
   "source": [
    "## ROC"
   ]
  },
  {
   "cell_type": "code",
   "execution_count": null,
   "metadata": {},
   "outputs": [],
   "source": [
    "fpr, tpr, thresholds = roc_curve(y_true=[['Non-pA', 'pA'][i.item()] for i in interp.targs.argmax(axis=1)], \n",
    "                                 y_score=interp.preds[:,1], \n",
    "                                 pos_label='pA')\n",
    "roc_auc = auc(fpr, tpr)"
   ]
  },
  {
   "cell_type": "code",
   "execution_count": null,
   "metadata": {},
   "outputs": [
    {
     "data": {
      "image/png": "[encoded data removed]",
      "text/plain": [
       "<Figure size 432x288 with 1 Axes>"
      ]
     },
     "metadata": {
      "needs_background": "light"
     },
     "output_type": "display_data"
    }
   ],
   "source": [
    "plt.figure()\n",
    "lw = 2\n",
    "plt.plot(fpr, tpr, color='darkorange',\n",
    "         lw=lw, label='ROC curve (area = %0.2f)' % roc_auc)\n",
    "plt.plot([0, 1], [0, 1], color='navy', lw=lw, linestyle='--')\n",
    "plt.xlim([0.0, 1.0])\n",
    "plt.ylim([0.0, 1.05])\n",
    "plt.xlabel('False Positive Rate')\n",
    "plt.ylabel('True Positive Rate')\n",
    "plt.title('Receiver operating characteristic')\n",
    "plt.legend(loc=\"lower right\")\n",
    "plt.show()"
   ]
  },
  {
   "cell_type": "markdown",
   "metadata": {},
   "source": [
    "## What's next?\n",
    "1. Try other architectures.\n",
    "2. Interpret the model. \n",
    "3. Use the model for something."
   ]
  }
 ],
 "metadata": {
  "kernelspec": {
   "display_name": "Python 3",
   "language": "python",
   "name": "python3"
  }
 },
 "nbformat": 4,
 "nbformat_minor": 2
}
